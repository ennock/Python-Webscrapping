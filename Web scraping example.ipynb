{
 "cells": [
  {
   "cell_type": "code",
   "execution_count": 2,
   "id": "ffd19de1",
   "metadata": {},
   "outputs": [],
   "source": [
    "import requests\n",
    "from bs4 import BeautifulSoup\n",
    "import pandas as pd"
   ]
  },
  {
   "cell_type": "code",
   "execution_count": 6,
   "id": "7ee253db",
   "metadata": {},
   "outputs": [],
   "source": [
    "baseurl = \"https://www.thewhiskyexchange.com\"\n",
    "headers = {'User-Agent': 'Mozilla/5.0 (Windows NT 10.0; Win64; x64) AppleWebKit/537.36 (KHTML, like Gecko) Chrome/89.0.4389.82 Safari/537.36'}"
   ]
  },
  {
   "cell_type": "code",
   "execution_count": 7,
   "id": "95ed09ea",
   "metadata": {},
   "outputs": [
    {
     "name": "stdout",
     "output_type": "stream",
     "text": [
      "[]\n"
     ]
    }
   ],
   "source": [
    "k = requests.get('https://www.thewhiskyexchange.com').text\n",
    "soup=BeautifulSoup(k,'html.parser')\n",
    "productlist = soup.find_all(\"li\",{\"class\":\"product-grid__item\"})\n",
    "print(productlist)"
   ]
  },
  {
   "cell_type": "code",
   "execution_count": 8,
   "id": "7ac6376c",
   "metadata": {},
   "outputs": [
    {
     "name": "stdout",
     "output_type": "stream",
     "text": [
      "[]\n"
     ]
    }
   ],
   "source": [
    "print(productlist)"
   ]
  },
  {
   "cell_type": "code",
   "execution_count": 9,
   "id": "2b9c400d",
   "metadata": {},
   "outputs": [
    {
     "name": "stdout",
     "output_type": "stream",
     "text": [
      "Error: Request failed with status code 403\n"
     ]
    }
   ],
   "source": [
    "import requests\n",
    "\n",
    "# Replace with the actual URL you want to scrape\n",
    "url = \"https://www.thewhiskyexchange.com\"\n",
    "\n",
    "# Send GET request and store response\n",
    "response = requests.get(url)\n",
    "\n",
    "# Check for successful response (status code 200)\n",
    "if response.status_code == 200:\n",
    "    # Extract HTML content\n",
    "    html_content = response.text\n",
    "\n",
    "    # Print or work with the HTML content\n",
    "    print(html_content)\n",
    "    # ... your data processing logic here ...\n",
    "else:\n",
    "    print(f\"Error: Request failed with status code {response.status_code}\")\n"
   ]
  },
  {
   "cell_type": "code",
   "execution_count": null,
   "id": "6ee88844",
   "metadata": {},
   "outputs": [],
   "source": []
  }
 ],
 "metadata": {
  "kernelspec": {
   "display_name": "Python 3 (ipykernel)",
   "language": "python",
   "name": "python3"
  },
  "language_info": {
   "codemirror_mode": {
    "name": "ipython",
    "version": 3
   },
   "file_extension": ".py",
   "mimetype": "text/x-python",
   "name": "python",
   "nbconvert_exporter": "python",
   "pygments_lexer": "ipython3",
   "version": "3.11.5"
  }
 },
 "nbformat": 4,
 "nbformat_minor": 5
}
